{
 "cells": [
  {
   "cell_type": "markdown",
   "metadata": {},
   "source": [
    "# Sparkify Project Workspace\n",
    "This workspace contains a tiny subset (128MB) of the full dataset available (12GB). Feel free to use this workspace to build your project, or to explore a smaller subset with Spark before deploying your cluster on the cloud. Instructions for setting up your Spark cluster is included in the last lesson of the Extracurricular Spark Course content.\n",
    "\n",
    "You can follow the steps below to guide your data analysis and model building portion of this project."
   ]
  },
  {
   "cell_type": "code",
   "execution_count": 4,
   "metadata": {},
   "outputs": [],
   "source": [
    "# import libraries\n",
    "import pyspark\n",
    "from pyspark.sql import SparkSession\n",
    "from pyspark import SparkContext, SparkConf\n",
    "from pyspark.sql.functions import monotonically_increasing_id\n",
    "import pyspark.sql.functions as F\n",
    "from pyspark.sql.types import IntegerType,DoubleType\n",
    "from pyspark.ml.classification import LogisticRegression, DecisionTreeClassifier, RandomForestClassifier\n",
    "from pyspark.mllib.tree import GradientBoostedTrees\n",
    "from pyspark.ml.feature import OneHotEncoder, MinMaxScaler, VectorAssembler\n",
    "from pyspark.ml.tuning import CrossValidator, ParamGridBuilder, CrossValidatorModel\n",
    "from pyspark.ml.evaluation import BinaryClassificationEvaluator, MulticlassClassificationEvaluator\n",
    "# from pyspark.ml import Pipeline\n",
    "from pyspark.ml import Pipeline, PipelineModel\n",
    "\n",
    "import matplotlib.pyplot as plt\n",
    "import datetime"
   ]
  },
  {
   "cell_type": "code",
   "execution_count": 5,
   "metadata": {},
   "outputs": [],
   "source": [
    "# create a Spark session\n",
    "spark = SparkSession \\\n",
    "    .builder \\\n",
    "    .appName(\"Sparkify project\") \\\n",
    "    .getOrCreate()"
   ]
  },
  {
   "cell_type": "markdown",
   "metadata": {},
   "source": [
    "# Load and Clean Dataset\n",
    "In this workspace, the mini-dataset file is `mini_sparkify_event_data.json`. Load and clean the dataset, checking for invalid or missing data - for example, records without userids or sessionids. "
   ]
  },
  {
   "cell_type": "markdown",
   "metadata": {},
   "source": [
    "First look at data"
   ]
  },
  {
   "cell_type": "code",
   "execution_count": 6,
   "metadata": {},
   "outputs": [],
   "source": [
    "path = \"mini_sparkify_event_data.json\"\n",
    "data = spark.read.json(path)"
   ]
  },
  {
   "cell_type": "code",
   "execution_count": 7,
   "metadata": {},
   "outputs": [
    {
     "data": {
      "text/plain": [
       "286500"
      ]
     },
     "execution_count": 7,
     "metadata": {},
     "output_type": "execute_result"
    }
   ],
   "source": [
    "# num observarions\n",
    "data.count()"
   ]
  },
  {
   "cell_type": "code",
   "execution_count": 8,
   "metadata": {},
   "outputs": [
    {
     "data": {
      "text/plain": [
       "DataFrame[summary: string, artist: string, auth: string, firstName: string, gender: string, itemInSession: string, lastName: string, length: string, level: string, location: string, method: string, page: string, registration: string, sessionId: string, song: string, status: string, ts: string, userAgent: string, userId: string]"
      ]
     },
     "execution_count": 8,
     "metadata": {},
     "output_type": "execute_result"
    }
   ],
   "source": [
    "# cols and datatypes\n",
    "data.describe()"
   ]
  },
  {
   "cell_type": "code",
   "execution_count": 9,
   "metadata": {},
   "outputs": [
    {
     "data": {
      "text/plain": [
       "[Row(artist='Martha Tilston', auth='Logged In', firstName='Colin', gender='M', itemInSession=50, lastName='Freeman', length=277.89016, level='paid', location='Bakersfield, CA', method='PUT', page='NextSong', registration=1538173362000, sessionId=29, song='Rockpools', status=200, ts=1538352117000, userAgent='Mozilla/5.0 (Windows NT 6.1; WOW64; rv:31.0) Gecko/20100101 Firefox/31.0', userId='30')]"
      ]
     },
     "execution_count": 9,
     "metadata": {},
     "output_type": "execute_result"
    }
   ],
   "source": [
    "# first row\n",
    "data.take(1)"
   ]
  },
  {
   "cell_type": "code",
   "execution_count": 10,
   "metadata": {},
   "outputs": [
    {
     "name": "stdout",
     "output_type": "stream",
     "text": [
      "+-------+------------------+\n",
      "|summary|            artist|\n",
      "+-------+------------------+\n",
      "|  count|            228108|\n",
      "|   mean| 551.0852017937219|\n",
      "| stddev|1217.7693079161374|\n",
      "|    min|               !!!|\n",
      "|    max| ÃÂlafur Arnalds|\n",
      "+-------+------------------+\n",
      "\n",
      "+-------+----------+\n",
      "|summary|      auth|\n",
      "+-------+----------+\n",
      "|  count|    286500|\n",
      "|   mean|      null|\n",
      "| stddev|      null|\n",
      "|    min| Cancelled|\n",
      "|    max|Logged Out|\n",
      "+-------+----------+\n",
      "\n",
      "+-------+---------+\n",
      "|summary|firstName|\n",
      "+-------+---------+\n",
      "|  count|   278154|\n",
      "|   mean|     null|\n",
      "| stddev|     null|\n",
      "|    min| Adelaida|\n",
      "|    max|   Zyonna|\n",
      "+-------+---------+\n",
      "\n",
      "+-------+------+\n",
      "|summary|gender|\n",
      "+-------+------+\n",
      "|  count|278154|\n",
      "|   mean|  null|\n",
      "| stddev|  null|\n",
      "|    min|     F|\n",
      "|    max|     M|\n",
      "+-------+------+\n",
      "\n",
      "+-------+------------------+\n",
      "|summary|     itemInSession|\n",
      "+-------+------------------+\n",
      "|  count|            286500|\n",
      "|   mean|114.41421291448516|\n",
      "| stddev|129.76726201141085|\n",
      "|    min|                 0|\n",
      "|    max|              1321|\n",
      "+-------+------------------+\n",
      "\n",
      "+-------+--------+\n",
      "|summary|lastName|\n",
      "+-------+--------+\n",
      "|  count|  278154|\n",
      "|   mean|    null|\n",
      "| stddev|    null|\n",
      "|    min|   Adams|\n",
      "|    max|  Wright|\n",
      "+-------+--------+\n",
      "\n",
      "+-------+------------------+\n",
      "|summary|            length|\n",
      "+-------+------------------+\n",
      "|  count|            228108|\n",
      "|   mean|249.11718197783722|\n",
      "| stddev| 99.23517921058324|\n",
      "|    min|           0.78322|\n",
      "|    max|        3024.66567|\n",
      "+-------+------------------+\n",
      "\n",
      "+-------+------+\n",
      "|summary| level|\n",
      "+-------+------+\n",
      "|  count|286500|\n",
      "|   mean|  null|\n",
      "| stddev|  null|\n",
      "|    min|  free|\n",
      "|    max|  paid|\n",
      "+-------+------+\n",
      "\n",
      "+-------+-----------------+\n",
      "|summary|         location|\n",
      "+-------+-----------------+\n",
      "|  count|           278154|\n",
      "|   mean|             null|\n",
      "| stddev|             null|\n",
      "|    min|       Albany, OR|\n",
      "|    max|Winston-Salem, NC|\n",
      "+-------+-----------------+\n",
      "\n",
      "+-------+------+\n",
      "|summary|method|\n",
      "+-------+------+\n",
      "|  count|286500|\n",
      "|   mean|  null|\n",
      "| stddev|  null|\n",
      "|    min|   GET|\n",
      "|    max|   PUT|\n",
      "+-------+------+\n",
      "\n",
      "+-------+-------+\n",
      "|summary|   page|\n",
      "+-------+-------+\n",
      "|  count| 286500|\n",
      "|   mean|   null|\n",
      "| stddev|   null|\n",
      "|    min|  About|\n",
      "|    max|Upgrade|\n",
      "+-------+-------+\n",
      "\n",
      "+-------+--------------------+\n",
      "|summary|        registration|\n",
      "+-------+--------------------+\n",
      "|  count|              278154|\n",
      "|   mean|1.535358834085557E12|\n",
      "| stddev| 3.291321616328068E9|\n",
      "|    min|       1521380675000|\n",
      "|    max|       1543247354000|\n",
      "+-------+--------------------+\n",
      "\n",
      "+-------+-----------------+\n",
      "|summary|        sessionId|\n",
      "+-------+-----------------+\n",
      "|  count|           286500|\n",
      "|   mean|1041.526554973822|\n",
      "| stddev|726.7762634630834|\n",
      "|    min|                1|\n",
      "|    max|             2474|\n",
      "+-------+-----------------+\n",
      "\n",
      "+-------+--------------------+\n",
      "|summary|                song|\n",
      "+-------+--------------------+\n",
      "|  count|              228108|\n",
      "|   mean|            Infinity|\n",
      "| stddev|                 NaN|\n",
      "|    min|\u001c",
      "ÃÂg ÃÂtti Gr...|\n",
      "|    max|ÃÂau hafa slopp...|\n",
      "+-------+--------------------+\n",
      "\n",
      "+-------+------------------+\n",
      "|summary|            status|\n",
      "+-------+------------------+\n",
      "|  count|            286500|\n",
      "|   mean|210.05459685863875|\n",
      "| stddev| 31.50507848842202|\n",
      "|    min|               200|\n",
      "|    max|               404|\n",
      "+-------+------------------+\n",
      "\n",
      "+-------+--------------------+\n",
      "|summary|                  ts|\n",
      "+-------+--------------------+\n",
      "|  count|              286500|\n",
      "|   mean|1.540956889810471...|\n",
      "| stddev|1.5075439608187113E9|\n",
      "|    min|       1538352117000|\n",
      "|    max|       1543799476000|\n",
      "+-------+--------------------+\n",
      "\n",
      "+-------+--------------------+\n",
      "|summary|           userAgent|\n",
      "+-------+--------------------+\n",
      "|  count|              278154|\n",
      "|   mean|                null|\n",
      "| stddev|                null|\n",
      "|    min|\"Mozilla/5.0 (Mac...|\n",
      "|    max|Mozilla/5.0 (comp...|\n",
      "+-------+--------------------+\n",
      "\n",
      "+-------+------------------+\n",
      "|summary|            userId|\n",
      "+-------+------------------+\n",
      "|  count|            286500|\n",
      "|   mean| 59682.02278593872|\n",
      "| stddev|109091.94999910519|\n",
      "|    min|                  |\n",
      "|    max|                99|\n",
      "+-------+------------------+\n",
      "\n"
     ]
    }
   ],
   "source": [
    "# describe the data\n",
    "for col in data.schema.names:\n",
    "    data.describe(col).show()"
   ]
  },
  {
   "cell_type": "code",
   "execution_count": null,
   "metadata": {},
   "outputs": [],
   "source": []
  },
  {
   "cell_type": "markdown",
   "metadata": {},
   "source": [
    "### Data cleaning \n",
    "1. Remove user_ids equal to empty string `\"\"`"
   ]
  },
  {
   "cell_type": "code",
   "execution_count": 11,
   "metadata": {},
   "outputs": [
    {
     "name": "stdout",
     "output_type": "stream",
     "text": [
      "286500\n",
      "+------+\n",
      "|userId|\n",
      "+------+\n",
      "|      |\n",
      "|    10|\n",
      "|   100|\n",
      "|100001|\n",
      "|100002|\n",
      "|100003|\n",
      "|100004|\n",
      "|100005|\n",
      "|100006|\n",
      "|100007|\n",
      "|100008|\n",
      "|100009|\n",
      "|100010|\n",
      "|100011|\n",
      "|100012|\n",
      "|100013|\n",
      "|100014|\n",
      "|100015|\n",
      "|100016|\n",
      "|100017|\n",
      "+------+\n",
      "only showing top 20 rows\n",
      "\n"
     ]
    },
    {
     "data": {
      "text/plain": [
       "278154"
      ]
     },
     "execution_count": 11,
     "metadata": {},
     "output_type": "execute_result"
    }
   ],
   "source": [
    "print(data.count())\n",
    "data.select(\"userId\").dropDuplicates().sort(\"userId\").show()\n",
    "data_valid = data.filter(data[\"userId\"] != \"\")\n",
    "data_valid.count()"
   ]
  },
  {
   "cell_type": "code",
   "execution_count": null,
   "metadata": {},
   "outputs": [],
   "source": []
  },
  {
   "cell_type": "markdown",
   "metadata": {},
   "source": [
    " 2\\. Looking into duplicate rows"
   ]
  },
  {
   "cell_type": "code",
   "execution_count": 12,
   "metadata": {},
   "outputs": [
    {
     "name": "stdout",
     "output_type": "stream",
     "text": [
      "Rows after dropping duplicates 278154\n",
      "Rows before dropping duplicates 278154\n"
     ]
    }
   ],
   "source": [
    "print('Rows after dropping duplicates', data_valid.dropDuplicates().count())\n",
    "print('Rows before dropping duplicates', data_valid.count())"
   ]
  },
  {
   "cell_type": "markdown",
   "metadata": {},
   "source": [
    "This looks good, no duplicates. Lets double check that the combination of timestamps and userID's also dont have duplicates. "
   ]
  },
  {
   "cell_type": "code",
   "execution_count": 13,
   "metadata": {},
   "outputs": [
    {
     "data": {
      "text/plain": [
       "745"
      ]
     },
     "execution_count": 13,
     "metadata": {},
     "output_type": "execute_result"
    }
   ],
   "source": [
    "data_valid.select(['ts', 'userId']).count() - data_valid.dropDuplicates(['ts', 'userId']).count()"
   ]
  },
  {
   "cell_type": "markdown",
   "metadata": {},
   "source": [
    "So it seems there may actually be some duplicates here. Lets look a little closer"
   ]
  },
  {
   "cell_type": "code",
   "execution_count": 14,
   "metadata": {},
   "outputs": [
    {
     "data": {
      "text/plain": [
       "[Row(userID='124', ts=1540842260000, count(1)=2),\n",
       " Row(userID='33', ts=1542409461000, count(1)=2),\n",
       " Row(userID='152', ts=1543206099000, count(1)=2),\n",
       " Row(userID='36', ts=1539070836000, count(1)=2),\n",
       " Row(userID='9', ts=1539714540000, count(1)=2)]"
      ]
     },
     "execution_count": 14,
     "metadata": {},
     "output_type": "execute_result"
    }
   ],
   "source": [
    "data_valid.createOrReplaceTempView('data')\n",
    "\n",
    "duplicates_statement = \"\"\"\n",
    "    SELECT\n",
    "        userID, ts, COUNT(*)\n",
    "    FROM\n",
    "        data\n",
    "    GROUP BY\n",
    "        userID, ts\n",
    "    HAVING \n",
    "        COUNT(*) > 1\n",
    "    LIMIT\n",
    "        5\"\"\"\n",
    "\n",
    "spark.sql(duplicates_statement).collect()"
   ]
  },
  {
   "cell_type": "code",
   "execution_count": 15,
   "metadata": {},
   "outputs": [
    {
     "data": {
      "text/plain": [
       "[Row(artist='Kings Of Convenience', auth='Logged In', firstName='Nicole', gender='F', itemInSession=46, lastName='Beck', length=247.50975, level='paid', location='Vineland-Bridgeton, NJ', method='PUT', page='NextSong', registration=1532224335000, sessionId=1394, song='The Weight Of My Words', status=200, ts=1540842260000, userAgent='\"Mozilla/5.0 (Macintosh; Intel Mac OS X 10_9_4) AppleWebKit/537.36 (KHTML, like Gecko) Chrome/36.0.1985.143 Safari/537.36\"', userId='124'),\n",
       " Row(artist=None, auth='Logged In', firstName='Nicole', gender='F', itemInSession=47, lastName='Beck', length=None, level='paid', location='Vineland-Bridgeton, NJ', method='GET', page='Home', registration=1532224335000, sessionId=1394, song=None, status=200, ts=1540842260000, userAgent='\"Mozilla/5.0 (Macintosh; Intel Mac OS X 10_9_4) AppleWebKit/537.36 (KHTML, like Gecko) Chrome/36.0.1985.143 Safari/537.36\"', userId='124')]"
      ]
     },
     "execution_count": 15,
     "metadata": {},
     "output_type": "execute_result"
    }
   ],
   "source": [
    "# lets look a little closer at the first of these\n",
    "data_valid.createOrReplaceTempView('data')\n",
    "\n",
    "duplicates_statement = \"\"\"\n",
    "    SELECT\n",
    "        *\n",
    "    FROM\n",
    "        data\n",
    "    WHERE\n",
    "        userID = '124' \n",
    "    AND \n",
    "        ts = 1540842260000\n",
    "\"\"\"\n",
    "\n",
    "spark.sql(duplicates_statement).collect()"
   ]
  },
  {
   "cell_type": "markdown",
   "metadata": {},
   "source": [
    "It looks like this user seems to have two unique actions at the same time. This isn't necessarily a problem. In this case, the user seems to have changed song and gone to the home page at the same time. Since most streaming applications automatically change songs when they finish it is possible that this could happen at the exact same time that the user takes an action. Therefore I will not drop these rows. "
   ]
  },
  {
   "cell_type": "code",
   "execution_count": null,
   "metadata": {},
   "outputs": [],
   "source": []
  },
  {
   "cell_type": "markdown",
   "metadata": {},
   "source": [
    "# Exploratory Data Analysis\n",
    "When you're working with the full dataset, perform EDA by loading a small subset of the data and doing basic manipulations within Spark. In this workspace, you are already provided a small subset of data you can explore."
   ]
  },
  {
   "cell_type": "markdown",
   "metadata": {},
   "source": [
    "Lets explore the features in more detail"
   ]
  },
  {
   "cell_type": "code",
   "execution_count": 16,
   "metadata": {},
   "outputs": [
    {
     "data": {
      "text/plain": [
       "DataFrame[summary: string, artist: string, auth: string, firstName: string, gender: string, itemInSession: string, lastName: string, length: string, level: string, location: string, method: string, page: string, registration: string, sessionId: string, song: string, status: string, ts: string, userAgent: string, userId: string, id: string]"
      ]
     },
     "execution_count": 16,
     "metadata": {},
     "output_type": "execute_result"
    }
   ],
   "source": [
    "# add a unique id column\n",
    "df = data_valid.sort(['userID', 'ts', 'sessionId']).withColumn(\"id\", monotonically_increasing_id())\n",
    "df.describe()"
   ]
  },
  {
   "cell_type": "code",
   "execution_count": 17,
   "metadata": {},
   "outputs": [
    {
     "data": {
      "text/plain": [
       "Row(artist='Sea Wolf', auth='Logged In', firstName='Brycen', gender='M', itemInSession=0, lastName='Bradley', length=265.53424, level='paid', location='Laurel, MS', method='PUT', page='NextSong', registration=1538159495000, sessionId=9, song='Ses Monuments', status=200, ts=1538965220000, userAgent='\"Mozilla/5.0 (Macintosh; Intel Mac OS X 10_9_4) AppleWebKit/537.36 (KHTML, like Gecko) Chrome/36.0.1985.143 Safari/537.36\"', userId='10', id=0)"
      ]
     },
     "execution_count": 17,
     "metadata": {},
     "output_type": "execute_result"
    }
   ],
   "source": [
    "df.head()"
   ]
  },
  {
   "cell_type": "code",
   "execution_count": 18,
   "metadata": {},
   "outputs": [
    {
     "data": {
      "image/png": "[encoded data removed]",
      "text/plain": [
       "<Figure size 1440x720 with 1 Axes>"
      ]
     },
     "metadata": {
      "needs_background": "light"
     },
     "output_type": "display_data"
    }
   ],
   "source": [
    "# lets look at the distribution of the 50 most popular artists\n",
    "df.createOrReplaceTempView('data')\n",
    "statement = \"\"\"\n",
    "    SELECT \n",
    "        COUNT(id), artist \n",
    "    FROM \n",
    "        data\n",
    "    GROUP BY \n",
    "        artist\n",
    "    ORDER BY \n",
    "        COUNT(id) DESC\"\"\"\n",
    "artist_counts = spark.sql(statement).collect()\n",
    "artist_counts = artist_counts[1:50] # drop None values\n",
    "artists = [i[1] for i in artist_counts]\n",
    "counts = [i[0] for i in artist_counts]\n",
    "\n",
    "# plot\n",
    "plt.figure(figsize=(20,10))\n",
    "artists_pos = [i for i, _ in enumerate(artists)]\n",
    "plt.title('50 Most popular artists')\n",
    "plt.bar(artists_pos, counts, color='green')\n",
    "plt.xticks(artists_pos, artists, rotation=90)\n",
    "plt.show()"
   ]
  },
  {
   "cell_type": "code",
   "execution_count": 19,
   "metadata": {},
   "outputs": [
    {
     "name": "stdout",
     "output_type": "stream",
     "text": [
      "+---------+\n",
      "|     auth|\n",
      "+---------+\n",
      "|Cancelled|\n",
      "|Logged In|\n",
      "+---------+\n",
      "\n"
     ]
    }
   ],
   "source": [
    "# auth takes just two values\n",
    "df.select('auth').dropDuplicates().sort('auth').show()"
   ]
  },
  {
   "cell_type": "code",
   "execution_count": 20,
   "metadata": {},
   "outputs": [
    {
     "data": {
      "text/plain": [
       "[Row(count(id)=154578, gender='F'), Row(count(id)=123576, gender='M')]"
      ]
     },
     "execution_count": 20,
     "metadata": {},
     "output_type": "execute_result"
    }
   ],
   "source": [
    "# slightly more female than male activty\n",
    "df.createOrReplaceTempView('data')\n",
    "statement = \"\"\"\n",
    "    SELECT \n",
    "        COUNT(id), gender \n",
    "    FROM \n",
    "        data\n",
    "    GROUP BY \n",
    "        gender\"\"\"\n",
    "gender_split = spark.sql(statement).collect()\n",
    "gender_split"
   ]
  },
  {
   "cell_type": "code",
   "execution_count": 21,
   "metadata": {},
   "outputs": [
    {
     "data": {
      "image/png": "[encoded data removed]",
      "text/plain": [
       "<Figure size 1440x720 with 1 Axes>"
      ]
     },
     "metadata": {
      "needs_background": "light"
     },
     "output_type": "display_data"
    }
   ],
   "source": [
    "# lets look at the distribution of the 50 most popular songs\n",
    "df.createOrReplaceTempView('data')\n",
    "statement = \"\"\"\n",
    "    SELECT \n",
    "        COUNT(id), song \n",
    "    FROM \n",
    "        data\n",
    "    GROUP BY \n",
    "        song\n",
    "    ORDER BY \n",
    "        COUNT(id) DESC\"\"\"\n",
    "song_counts = spark.sql(statement).collect()\n",
    "song_counts = song_counts[1:50] # drop None values\n",
    "songs = [i[1] for i in song_counts]\n",
    "counts = [i[0] for i in song_counts]\n",
    "\n",
    "# plot\n",
    "plt.figure(figsize=(20,10))\n",
    "songs_pos = [i for i, _ in enumerate(songs)]\n",
    "plt.title('50 Most popular artists')\n",
    "plt.bar(songs_pos, counts, color='green')\n",
    "plt.xticks(songs_pos, songs, rotation=90)\n",
    "plt.show()"
   ]
  },
  {
   "cell_type": "code",
   "execution_count": 22,
   "metadata": {},
   "outputs": [
    {
     "name": "stdout",
     "output_type": "stream",
     "text": [
      "+--------------------+\n",
      "|                page|\n",
      "+--------------------+\n",
      "|               About|\n",
      "|          Add Friend|\n",
      "|     Add to Playlist|\n",
      "|              Cancel|\n",
      "|Cancellation Conf...|\n",
      "|           Downgrade|\n",
      "|               Error|\n",
      "|                Help|\n",
      "|                Home|\n",
      "|              Logout|\n",
      "|            NextSong|\n",
      "|         Roll Advert|\n",
      "|       Save Settings|\n",
      "|            Settings|\n",
      "|    Submit Downgrade|\n",
      "|      Submit Upgrade|\n",
      "|         Thumbs Down|\n",
      "|           Thumbs Up|\n",
      "|             Upgrade|\n",
      "+--------------------+\n",
      "\n"
     ]
    }
   ],
   "source": [
    "# the feature page can take the following values\n",
    "df.select('page').dropDuplicates().sort('page').show()"
   ]
  },
  {
   "cell_type": "markdown",
   "metadata": {},
   "source": [
    "### Define Churn\n",
    "\n",
    "Once you've done some preliminary analysis, create a column `Churn` to use as the label for your model. I suggest using the `Cancellation Confirmation` events to define your churn, which happen for both paid and free users. As a bonus task, you can also look into the `Downgrade` events.\n"
   ]
  },
  {
   "cell_type": "markdown",
   "metadata": {},
   "source": [
    "As suggested we will define churn as users who recieve a `Cancellation Confirmation`"
   ]
  },
  {
   "cell_type": "code",
   "execution_count": 23,
   "metadata": {},
   "outputs": [],
   "source": [
    "churned_user_list = (df.filter(df.page == 'Cancellation Confirmation')\n",
    "                       .select('userId')\n",
    "                       .distinct()\n",
    "                       .rdd.flatMap(lambda x: x)\n",
    "                       .collect())\n",
    "\n",
    "df = df.withColumn('churn', F.when(df.userId.isin(churned_user_list), 1).otherwise(0))"
   ]
  },
  {
   "cell_type": "code",
   "execution_count": null,
   "metadata": {},
   "outputs": [],
   "source": []
  },
  {
   "cell_type": "markdown",
   "metadata": {},
   "source": [
    "### Explore Data\n",
    "Once you've defined churn, perform some exploratory data analysis to observe the behavior for users who stayed vs users who churned. You can start by exploring aggregates on these two groups of users, observing how much of a specific action they experienced per a certain time unit or number of songs played."
   ]
  },
  {
   "cell_type": "code",
   "execution_count": 24,
   "metadata": {},
   "outputs": [],
   "source": [
    "df.createOrReplaceTempView('data')\n",
    "statement = \"\"\"\n",
    "    SELECT \n",
    "        userID, count(churn), sum(churn)\n",
    "    FROM \n",
    "        data\n",
    "    GROUP BY \n",
    "        userID\"\"\"\n",
    "users = spark.sql(statement).collect()"
   ]
  },
  {
   "cell_type": "code",
   "execution_count": 25,
   "metadata": {},
   "outputs": [
    {
     "name": "stdout",
     "output_type": "stream",
     "text": [
      "Ratio of users who churn:  0.2311111111111111\n"
     ]
    },
    {
     "data": {
      "image/png": "[encoded data removed]",
      "text/plain": [
       "<Figure size 432x288 with 1 Axes>"
      ]
     },
     "metadata": {
      "needs_background": "light"
     },
     "output_type": "display_data"
    }
   ],
   "source": [
    "# number of users who churned\n",
    "user_churn = [1 if user[2]>0 else 0 for user in users]\n",
    "\n",
    "print('Ratio of users who churn: ', sum(user_churn)/len(user_churn))\n",
    "\n",
    "plt.bar([0,1], [sum(user_churn), len(user_churn)], color='green')\n",
    "plt.xticks([0,1], ['Churned', 'Didnt churn'])\n",
    "plt.title('Ratio of user churn')\n",
    "plt.show()"
   ]
  },
  {
   "cell_type": "code",
   "execution_count": null,
   "metadata": {},
   "outputs": [],
   "source": []
  },
  {
   "cell_type": "code",
   "execution_count": null,
   "metadata": {},
   "outputs": [],
   "source": []
  },
  {
   "cell_type": "markdown",
   "metadata": {},
   "source": [
    "# Feature Engineering\n",
    "Once you've familiarized yourself with the data, build out the features you find promising to train your model on. To work with the full dataset, you can follow the following steps.\n",
    "- Write a script to extract the necessary features from the smaller subset of data\n",
    "- Ensure that your script is scalable, using the best practices discussed in Lesson 3\n",
    "- Try your script on the full data set, debugging your script if necessary\n",
    "\n",
    "If you are working in the classroom workspace, you can just extract features based on the small subset of data contained here. Be sure to transfer over this work to the larger dataset when you work on your Spark cluster."
   ]
  },
  {
   "cell_type": "code",
   "execution_count": 26,
   "metadata": {},
   "outputs": [
    {
     "name": "stdout",
     "output_type": "stream",
     "text": [
      "+------+----------+\n",
      "|userId|song_count|\n",
      "+------+----------+\n",
      "|    10|       673|\n",
      "|   100|      2682|\n",
      "|100001|       133|\n",
      "|100002|       195|\n",
      "|100003|        51|\n",
      "|100004|       942|\n",
      "|100005|       154|\n",
      "|100006|        26|\n",
      "|100007|       423|\n",
      "|100008|       772|\n",
      "|100009|       518|\n",
      "|100010|       275|\n",
      "|100011|        11|\n",
      "|100012|       476|\n",
      "|100013|      1131|\n",
      "|100014|       257|\n",
      "|100015|       800|\n",
      "|100016|       530|\n",
      "|100017|        52|\n",
      "|100018|      1002|\n",
      "+------+----------+\n",
      "only showing top 20 rows\n",
      "\n"
     ]
    }
   ],
   "source": [
    "# number of songs played\n",
    "song_count = (df.where(df.song!='null')\n",
    "                .groupby('userId')\n",
    "                .agg({'song':'count'})\n",
    "                .orderBy('userId')\n",
    "                .withColumnRenamed(\"count(song)\", \"song_count\")\n",
    "             )\n",
    "        \n",
    "song_count.show()"
   ]
  },
  {
   "cell_type": "code",
   "execution_count": 27,
   "metadata": {},
   "outputs": [
    {
     "name": "stdout",
     "output_type": "stream",
     "text": [
      "+------+------+\n",
      "|userId|gender|\n",
      "+------+------+\n",
      "|    10|     1|\n",
      "|   100|     1|\n",
      "|100001|     0|\n",
      "|100002|     0|\n",
      "|100003|     0|\n",
      "|100004|     0|\n",
      "|100005|     1|\n",
      "|100006|     0|\n",
      "|100007|     0|\n",
      "|100008|     0|\n",
      "|100009|     1|\n",
      "|100010|     0|\n",
      "|100011|     1|\n",
      "|100012|     1|\n",
      "|100013|     0|\n",
      "|100014|     1|\n",
      "|100015|     0|\n",
      "|100016|     1|\n",
      "|100017|     1|\n",
      "|100018|     1|\n",
      "+------+------+\n",
      "only showing top 20 rows\n",
      "\n"
     ]
    }
   ],
   "source": [
    "# use gender as a feature\n",
    "counts = df.groupBy(['userId', 'gender']).count().alias('counts')\n",
    "gender = (counts\n",
    "          .groupBy('userId')\n",
    "          .agg(F.max(F.struct(F.col('count'),\n",
    "                              F.col('gender'))).alias('max'))\n",
    "          .select(F.col('userId'), F.col('max.gender'))\n",
    "          .orderBy('userId')\n",
    "         )\n",
    "\n",
    "gender = (gender\n",
    "          .withColumn('gender', \n",
    "                      F.when(\n",
    "                          F.col('gender') == 'M', 1)\n",
    "                      .when(\n",
    "                          F.col('gender') == 'F',0)\n",
    "                     )\n",
    "         )\n",
    "\n",
    "gender.show()"
   ]
  },
  {
   "cell_type": "code",
   "execution_count": 28,
   "metadata": {},
   "outputs": [],
   "source": [
    "# use days active as a feature\n",
    "min_ts = df.select([\"userId\", \"ts\"]).groupby(\"userId\").min(\"ts\")\n",
    "max_ts = df.select([\"userId\", \"ts\"]).groupby(\"userId\").max(\"ts\")\n",
    "convert_time = 86400000\n",
    "days_active = min_ts.join(max_ts, on=\"userId\")\n",
    "days_active = (days_active.withColumn(\"days_active\", (F.col(\"max(ts)\")-F.col(\"min(ts)\")) / convert_time))\n",
    "days_active = days_active.select([\"userId\", \"days_active\"]).orderBy('userId')"
   ]
  },
  {
   "cell_type": "code",
   "execution_count": 59,
   "metadata": {},
   "outputs": [
    {
     "name": "stdout",
     "output_type": "stream",
     "text": [
      "+------+----------------+\n",
      "|userId|add_friend_count|\n",
      "+------+----------------+\n",
      "|    10|              12|\n",
      "|   100|              49|\n",
      "|100001|               2|\n",
      "|100002|               1|\n",
      "|100004|              19|\n",
      "|100005|               3|\n",
      "|100006|               4|\n",
      "|100007|              17|\n",
      "|100008|              17|\n",
      "|100009|               7|\n",
      "|100010|               4|\n",
      "|100012|               2|\n",
      "|100013|              28|\n",
      "|100014|               6|\n",
      "|100015|              14|\n",
      "|100016|              13|\n",
      "|100018|              23|\n",
      "|100019|               2|\n",
      "|100021|               7|\n",
      "|100022|              11|\n",
      "+------+----------------+\n",
      "only showing top 20 rows\n",
      "\n"
     ]
    }
   ],
   "source": [
    "# number of friends added\n",
    "add_friend_count = (df.where(df.page=='Add Friend')\n",
    "                .groupby('userId')\n",
    "                .agg({'page':'count'})\n",
    "                .orderBy('userId')\n",
    "                .withColumnRenamed(\"count(page)\", \"add_friend_count\")\n",
    "             )\n",
    "        \n",
    "add_friend_count.show()"
   ]
  },
  {
   "cell_type": "code",
   "execution_count": null,
   "metadata": {},
   "outputs": [],
   "source": []
  },
  {
   "cell_type": "code",
   "execution_count": 29,
   "metadata": {},
   "outputs": [
    {
     "name": "stdout",
     "output_type": "stream",
     "text": [
      "+------+-----+\n",
      "|userId|label|\n",
      "+------+-----+\n",
      "|    10|    0|\n",
      "|   100|    0|\n",
      "|100001|    1|\n",
      "|100002|    0|\n",
      "|100003|    1|\n",
      "|100004|    0|\n",
      "|100005|    1|\n",
      "|100006|    1|\n",
      "|100007|    1|\n",
      "|100008|    0|\n",
      "|100009|    1|\n",
      "|100010|    0|\n",
      "|100011|    1|\n",
      "|100012|    1|\n",
      "|100013|    1|\n",
      "|100014|    1|\n",
      "|100015|    1|\n",
      "|100016|    0|\n",
      "|100017|    1|\n",
      "|100018|    0|\n",
      "+------+-----+\n",
      "only showing top 20 rows\n",
      "\n"
     ]
    }
   ],
   "source": [
    "# get the labels (where 1 = churned)\n",
    "label = (df\n",
    "         .groupby('userId')\n",
    "         .agg({'churn':'first'})\n",
    "         .orderBy('userId') \n",
    "         .withColumnRenamed('first(churn)', 'label')\n",
    "        )\n",
    "        \n",
    "label.show()"
   ]
  },
  {
   "cell_type": "code",
   "execution_count": null,
   "metadata": {},
   "outputs": [],
   "source": []
  },
  {
   "cell_type": "markdown",
   "metadata": {},
   "source": [
    "# Modeling\n",
    "Split the full dataset into train, test, and validation sets. Test out several of the machine learning methods you learned. Evaluate the accuracy of the various models, tuning parameters as necessary. Determine your winning model based on test accuracy and report results on the validation set. Since the churned users are a fairly small subset, I suggest using F1 score as the metric to optimize."
   ]
  },
  {
   "cell_type": "code",
   "execution_count": 62,
   "metadata": {},
   "outputs": [],
   "source": [
    "# create modelling df\n",
    "modelling_data = song_count.join(gender, 'userId', 'full').join(days_active, 'userId', 'full').join(add_friend_count, 'userId', 'full').join(label, 'userId', 'full').drop('userId')\n",
    "modelling_data = modelling_data.fillna({'add_friend_count':0}) "
   ]
  },
  {
   "cell_type": "code",
   "execution_count": 64,
   "metadata": {},
   "outputs": [],
   "source": [
    "# train test split\n",
    "train, test = modelling_data.randomSplit([0.8, 0.2])"
   ]
  },
  {
   "cell_type": "markdown",
   "metadata": {},
   "source": [
    "Train a Logistic regression model"
   ]
  },
  {
   "cell_type": "code",
   "execution_count": 65,
   "metadata": {},
   "outputs": [],
   "source": [
    "# Create vector from feature data\n",
    "feature_names = train.drop('label').schema.names\n",
    "vec_asembler = VectorAssembler(inputCols = feature_names, outputCol = 'Features')\n",
    "\n",
    "# scales columns between 0 and 1\n",
    "scalar = MinMaxScaler(inputCol='Features', outputCol='ScaledFeatures')\n",
    "\n",
    "lr = LogisticRegression(featuresCol='ScaledFeatures', labelCol='label')\n",
    "dt = DecisionTreeClassifier(featuresCol='ScaledFeatures', labelCol='label')\n",
    "rf = RandomForestClassifier(featuresCol='ScaledFeatures', labelCol='label')\n",
    "\n",
    "pipeline_lr = Pipeline(stages=[vec_asembler, scalar, lr])\n",
    "pipeline_dt = Pipeline(stages=[vec_asembler, scalar, dt])\n",
    "pipeline_rf = Pipeline(stages=[vec_asembler, scalar, rf])\n",
    "\n",
    "# evaluator = BinaryClassificationEvaluator()\n",
    "evaluator = MulticlassClassificationEvaluator(metricName=\"f1\")"
   ]
  },
  {
   "cell_type": "code",
   "execution_count": 66,
   "metadata": {},
   "outputs": [],
   "source": [
    "# create param grids\n",
    "lr_paramGrid = (ParamGridBuilder()\n",
    "             .addGrid(lr.regParam,[0.0, 0.1]) \n",
    "             .build()\n",
    "            )\n",
    "dt_paramGrid = (ParamGridBuilder()\n",
    "             .addGrid(dt.maxDepth,[1, 2]) \n",
    "             .build()\n",
    "            )\n",
    "rf_paramGrid = (ParamGridBuilder()\n",
    "             .addGrid(rf.numTrees,[5, 10, 20])\n",
    "             .addGrid(rf.subsamplingRate, [0.5, 0.75, 1])\n",
    "             .build()\n",
    "            )\n",
    "\n",
    "num_folds = 2\n",
    "\n",
    "# create cross validation pipelines\n",
    "lr_crossval = CrossValidator(estimator=pipeline_lr,\n",
    "                      estimatorParamMaps=lr_paramGrid,\n",
    "                      evaluator=evaluator,\n",
    "                      numFolds=num_folds)\n",
    "dt_crossval = CrossValidator(estimator=pipeline_dt,\n",
    "                      estimatorParamMaps=dt_paramGrid,\n",
    "                      evaluator=evaluator,\n",
    "                      numFolds=num_folds)\n",
    "rf_crossval = CrossValidator(estimator=pipeline_rf,\n",
    "                      estimatorParamMaps=rf_paramGrid,\n",
    "                      evaluator=evaluator,\n",
    "                      numFolds=num_folds)\n"
   ]
  },
  {
   "cell_type": "code",
   "execution_count": 67,
   "metadata": {},
   "outputs": [],
   "source": [
    "# train models\n",
    "trained_lr = lr_crossval.fit(train)\n",
    "trained_dt = dt_crossval.fit(train)\n",
    "trained_rf = rf_crossval.fit(train)\n"
   ]
  },
  {
   "cell_type": "code",
   "execution_count": 70,
   "metadata": {},
   "outputs": [
    {
     "name": "stdout",
     "output_type": "stream",
     "text": [
      "F1 score for logistic regression is 0.7373511904761906\n",
      "F1 score for decision tree is 0.5640509725016768\n",
      "F1 score for random forest is 0.8116059379217274\n"
     ]
    }
   ],
   "source": [
    "# asses model performance\n",
    "results = trained_lr.transform(test)\n",
    "score = evaluator.evaluate(results)\n",
    "print(f'F1 score for logistic regression is {score}')\n",
    "\n",
    "results = trained_dt.transform(test)\n",
    "score = evaluator.evaluate(results)\n",
    "print(f'F1 score for decision tree is {score}')\n",
    "\n",
    "results = trained_rf.transform(test)\n",
    "score = evaluator.evaluate(results)\n",
    "print(f'F1 score for random forest is {score}')\n"
   ]
  },
  {
   "cell_type": "code",
   "execution_count": null,
   "metadata": {},
   "outputs": [],
   "source": []
  }
 ],
 "metadata": {
  "kernelspec": {
   "display_name": "sparkify_env3",
   "language": "python",
   "name": "sparkify_env3"
  },
  "language_info": {
   "codemirror_mode": {
    "name": "ipython",
    "version": 3
   },
   "file_extension": ".py",
   "mimetype": "text/x-python",
   "name": "python",
   "nbconvert_exporter": "python",
   "pygments_lexer": "ipython3",
   "version": "3.7.5"
  }
 },
 "nbformat": 4,
 "nbformat_minor": 4
}
